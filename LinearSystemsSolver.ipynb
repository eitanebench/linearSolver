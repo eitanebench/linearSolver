{
  "nbformat": 4,
  "nbformat_minor": 0,
  "metadata": {
    "colab": {
      "name": "LinearSystemsSolver",
      "provenance": [],
      "collapsed_sections": [],
      "authorship_tag": "ABX9TyPAGX8I0Tz9PDB1BBb4ruge",
      "include_colab_link": true
    },
    "kernelspec": {
      "name": "python3",
      "display_name": "Python 3"
    }
  },
  "cells": [
    {
      "cell_type": "markdown",
      "metadata": {
        "id": "view-in-github",
        "colab_type": "text"
      },
      "source": [
        "<a href=\"https://colab.research.google.com/github/eitanebench/linearSolver/blob/master/LinearSystemsSolver.ipynb\" target=\"_parent\"><img src=\"https://colab.research.google.com/assets/colab-badge.svg\" alt=\"Open In Colab\"/></a>"
      ]
    },
    {
      "cell_type": "markdown",
      "metadata": {
        "id": "-IW_jl1RHozX",
        "colab_type": "text"
      },
      "source": [
        "Created by: Eitan Benchabbat\n",
        "Student for Material Engineering\n",
        "This is my code for solving linear systems of equations.\n",
        "Enjoy."
      ]
    },
    {
      "cell_type": "code",
      "metadata": {
        "id": "UgiWW9y-byqW",
        "colab_type": "code",
        "colab": {}
      },
      "source": [
        "#first import numpy so we can work with arrays\n",
        "import numpy as np"
      ],
      "execution_count": 0,
      "outputs": []
    },
    {
      "cell_type": "code",
      "metadata": {
        "id": "9Q57ltJJMFy1",
        "colab_type": "code",
        "colab": {}
      },
      "source": [
        "#lets create the array from user inputs\n",
        "def list2array(length):\n",
        "    #length = int(input(\"How many elements are in the Array?\"))\n",
        "    X =np.zeros((length,length))\n",
        "  \n",
        "    for n in range(length):\n",
        "      A2 = []\n",
        "      for k in range(length):\n",
        "        A = float(input(\"Write the elements one at a time then press enter.\\nFor example: 10\"))\n",
        "        A2.append(A)\n",
        "      X[n] = A2\n",
        "    return X\n"
      ],
      "execution_count": 0,
      "outputs": []
    },
    {
      "cell_type": "code",
      "metadata": {
        "id": "lGOjA4cWRJ6n",
        "colab_type": "code",
        "colab": {}
      },
      "source": [
        "#this is the solutions vector\n",
        "def list2vector(length):\n",
        "  X = []\n",
        "  for i in range(length):\n",
        "    a = float(input(\"add solution vector elements 1by1.\"))\n",
        "    X.append(a)\n",
        "  return np.array(X)"
      ],
      "execution_count": 0,
      "outputs": []
    },
    {
      "cell_type": "code",
      "metadata": {
        "id": "mnoPPpO7GrO5",
        "colab_type": "code",
        "colab": {}
      },
      "source": [
        "\n",
        "# finally the 2 previouse functions compiled into one to solve your problem\n",
        "def linear_system_solver_app():\n",
        "  length = int(input(\"what is the length of your matrix?\"))\n",
        "  A = list2array(length)\n",
        "  B = list2vector(length)\n",
        "  a = np.array([0])\n",
        "  if type(A) == type(a) and np.linalg.det(A)!=0:\n",
        "    answers = np.linalg.solve(A,B)\n",
        "  else:\n",
        "    return print(\"Your Matrix is linear dependant.\\nThere is either no solution or infinite solutions\")\n",
        "  print(\"The solutions is \" +str(answers))\n",
        "  return answers\n",
        "  "
      ],
      "execution_count": 0,
      "outputs": []
    },
    {
      "cell_type": "code",
      "metadata": {
        "id": "-4e7n0Q_UUAM",
        "colab_type": "code",
        "colab": {}
      },
      "source": [
        "linear_system_solver_app()\n"
      ],
      "execution_count": 0,
      "outputs": []
    }
  ]
}